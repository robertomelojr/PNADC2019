{
 "cells": [
  {
   "cell_type": "markdown",
   "metadata": {},
   "source": [
    "# Análise da PNADC2019 entrevista 1"
   ]
  },
  {
   "cell_type": "code",
   "execution_count": 1,
   "metadata": {},
   "outputs": [],
   "source": [
    "import numpy as np \n",
    "import pandas as pd \n",
    "import matplotlib.pyplot as plt\n",
    "import seaborn as sns\n",
    "from sklearn.impute import SimpleImputer"
   ]
  },
  {
   "cell_type": "code",
   "execution_count": 2,
   "metadata": {},
   "outputs": [],
   "source": [
    "pnadc2019 = pd.read_csv('D:/pnadc2_2019.csv',sep = ',')"
   ]
  },
  {
   "cell_type": "code",
   "execution_count": 3,
   "metadata": {},
   "outputs": [
    {
     "data": {
      "text/html": [
       "<div>\n",
       "<style scoped>\n",
       "    .dataframe tbody tr th:only-of-type {\n",
       "        vertical-align: middle;\n",
       "    }\n",
       "\n",
       "    .dataframe tbody tr th {\n",
       "        vertical-align: top;\n",
       "    }\n",
       "\n",
       "    .dataframe thead th {\n",
       "        text-align: right;\n",
       "    }\n",
       "</style>\n",
       "<table border=\"1\" class=\"dataframe\">\n",
       "  <thead>\n",
       "    <tr style=\"text-align: right;\">\n",
       "      <th></th>\n",
       "      <th>Ano</th>\n",
       "      <th>Trimestre</th>\n",
       "      <th>UF</th>\n",
       "      <th>Capital</th>\n",
       "      <th>RM_RIDE</th>\n",
       "      <th>UPA</th>\n",
       "      <th>Estrato</th>\n",
       "      <th>V1008</th>\n",
       "      <th>V1014</th>\n",
       "      <th>V1022</th>\n",
       "      <th>...</th>\n",
       "      <th>VD5010</th>\n",
       "      <th>VD5011</th>\n",
       "      <th>VD5012</th>\n",
       "      <th>CO1</th>\n",
       "      <th>CO1e</th>\n",
       "      <th>CO2</th>\n",
       "      <th>CO2e</th>\n",
       "      <th>CO3</th>\n",
       "      <th>IDpes</th>\n",
       "      <th>IDdom</th>\n",
       "    </tr>\n",
       "  </thead>\n",
       "  <tbody>\n",
       "    <tr>\n",
       "      <td>0</td>\n",
       "      <td>2019</td>\n",
       "      <td>1</td>\n",
       "      <td>11</td>\n",
       "      <td>11.0</td>\n",
       "      <td>NaN</td>\n",
       "      <td>110000016</td>\n",
       "      <td>1110011</td>\n",
       "      <td>1</td>\n",
       "      <td>7</td>\n",
       "      <td>1</td>\n",
       "      <td>...</td>\n",
       "      <td>3117.0</td>\n",
       "      <td>623.0</td>\n",
       "      <td>3.0</td>\n",
       "      <td>1.01385</td>\n",
       "      <td>1.019669</td>\n",
       "      <td>1.01385</td>\n",
       "      <td>1.019669</td>\n",
       "      <td>1</td>\n",
       "      <td>110000016010701</td>\n",
       "      <td>1100000160107</td>\n",
       "    </tr>\n",
       "    <tr>\n",
       "      <td>1</td>\n",
       "      <td>2019</td>\n",
       "      <td>1</td>\n",
       "      <td>11</td>\n",
       "      <td>11.0</td>\n",
       "      <td>NaN</td>\n",
       "      <td>110000016</td>\n",
       "      <td>1110011</td>\n",
       "      <td>1</td>\n",
       "      <td>7</td>\n",
       "      <td>1</td>\n",
       "      <td>...</td>\n",
       "      <td>3117.0</td>\n",
       "      <td>623.0</td>\n",
       "      <td>3.0</td>\n",
       "      <td>1.01385</td>\n",
       "      <td>1.019669</td>\n",
       "      <td>1.01385</td>\n",
       "      <td>1.019669</td>\n",
       "      <td>1</td>\n",
       "      <td>110000016010702</td>\n",
       "      <td>1100000160107</td>\n",
       "    </tr>\n",
       "    <tr>\n",
       "      <td>2</td>\n",
       "      <td>2019</td>\n",
       "      <td>1</td>\n",
       "      <td>11</td>\n",
       "      <td>11.0</td>\n",
       "      <td>NaN</td>\n",
       "      <td>110000016</td>\n",
       "      <td>1110011</td>\n",
       "      <td>1</td>\n",
       "      <td>7</td>\n",
       "      <td>1</td>\n",
       "      <td>...</td>\n",
       "      <td>3117.0</td>\n",
       "      <td>623.0</td>\n",
       "      <td>3.0</td>\n",
       "      <td>1.01385</td>\n",
       "      <td>1.019669</td>\n",
       "      <td>1.01385</td>\n",
       "      <td>1.019669</td>\n",
       "      <td>1</td>\n",
       "      <td>110000016010703</td>\n",
       "      <td>1100000160107</td>\n",
       "    </tr>\n",
       "    <tr>\n",
       "      <td>3</td>\n",
       "      <td>2019</td>\n",
       "      <td>1</td>\n",
       "      <td>11</td>\n",
       "      <td>11.0</td>\n",
       "      <td>NaN</td>\n",
       "      <td>110000016</td>\n",
       "      <td>1110011</td>\n",
       "      <td>1</td>\n",
       "      <td>7</td>\n",
       "      <td>1</td>\n",
       "      <td>...</td>\n",
       "      <td>3117.0</td>\n",
       "      <td>623.0</td>\n",
       "      <td>3.0</td>\n",
       "      <td>1.01385</td>\n",
       "      <td>1.019669</td>\n",
       "      <td>1.01385</td>\n",
       "      <td>1.019669</td>\n",
       "      <td>1</td>\n",
       "      <td>110000016010704</td>\n",
       "      <td>1100000160107</td>\n",
       "    </tr>\n",
       "    <tr>\n",
       "      <td>4</td>\n",
       "      <td>2019</td>\n",
       "      <td>1</td>\n",
       "      <td>11</td>\n",
       "      <td>11.0</td>\n",
       "      <td>NaN</td>\n",
       "      <td>110000016</td>\n",
       "      <td>1110011</td>\n",
       "      <td>1</td>\n",
       "      <td>7</td>\n",
       "      <td>1</td>\n",
       "      <td>...</td>\n",
       "      <td>3117.0</td>\n",
       "      <td>623.0</td>\n",
       "      <td>3.0</td>\n",
       "      <td>1.01385</td>\n",
       "      <td>1.019669</td>\n",
       "      <td>1.01385</td>\n",
       "      <td>1.019669</td>\n",
       "      <td>1</td>\n",
       "      <td>110000016010705</td>\n",
       "      <td>1100000160107</td>\n",
       "    </tr>\n",
       "  </tbody>\n",
       "</table>\n",
       "<p>5 rows × 294 columns</p>\n",
       "</div>"
      ],
      "text/plain": [
       "    Ano  Trimestre  UF  Capital  RM_RIDE        UPA  Estrato  V1008  V1014  \\\n",
       "0  2019          1  11     11.0      NaN  110000016  1110011      1      7   \n",
       "1  2019          1  11     11.0      NaN  110000016  1110011      1      7   \n",
       "2  2019          1  11     11.0      NaN  110000016  1110011      1      7   \n",
       "3  2019          1  11     11.0      NaN  110000016  1110011      1      7   \n",
       "4  2019          1  11     11.0      NaN  110000016  1110011      1      7   \n",
       "\n",
       "   V1022  ...  VD5010  VD5011  VD5012      CO1      CO1e      CO2      CO2e  \\\n",
       "0      1  ...  3117.0   623.0     3.0  1.01385  1.019669  1.01385  1.019669   \n",
       "1      1  ...  3117.0   623.0     3.0  1.01385  1.019669  1.01385  1.019669   \n",
       "2      1  ...  3117.0   623.0     3.0  1.01385  1.019669  1.01385  1.019669   \n",
       "3      1  ...  3117.0   623.0     3.0  1.01385  1.019669  1.01385  1.019669   \n",
       "4      1  ...  3117.0   623.0     3.0  1.01385  1.019669  1.01385  1.019669   \n",
       "\n",
       "   CO3            IDpes          IDdom  \n",
       "0    1  110000016010701  1100000160107  \n",
       "1    1  110000016010702  1100000160107  \n",
       "2    1  110000016010703  1100000160107  \n",
       "3    1  110000016010704  1100000160107  \n",
       "4    1  110000016010705  1100000160107  \n",
       "\n",
       "[5 rows x 294 columns]"
      ]
     },
     "execution_count": 3,
     "metadata": {},
     "output_type": "execute_result"
    }
   ],
   "source": [
    "pnadc2019.head()"
   ]
  },
  {
   "cell_type": "code",
   "execution_count": 4,
   "metadata": {},
   "outputs": [
    {
     "data": {
      "text/plain": [
       "Ano            int64\n",
       "Trimestre      int64\n",
       "UF             int64\n",
       "Capital      float64\n",
       "RM_RIDE      float64\n",
       "              ...   \n",
       "CO2          float64\n",
       "CO2e         float64\n",
       "CO3            int64\n",
       "IDpes          int64\n",
       "IDdom          int64\n",
       "Length: 294, dtype: object"
      ]
     },
     "execution_count": 4,
     "metadata": {},
     "output_type": "execute_result"
    }
   ],
   "source": [
    "pnadc2019.dtypes"
   ]
  },
  {
   "cell_type": "code",
   "execution_count": 5,
   "metadata": {},
   "outputs": [
    {
     "data": {
      "text/plain": [
       "array(['Ano', 'Trimestre', 'UF', 'Capital', 'RM_RIDE', 'UPA', 'Estrato',\n",
       "       'V1008', 'V1014', 'V1022', 'V1023', 'V1030', 'V1031', 'V1032',\n",
       "       'posest', 'V2001', 'V2003', 'V2005', 'V2007', 'V2008', 'V20081',\n",
       "       'V20082', 'V2009', 'V2010', 'V3001', 'V3002', 'V3002A', 'V3003A',\n",
       "       'V3005A', 'V3006', 'V3006A', 'V3007', 'V3008', 'V3009A', 'V3010',\n",
       "       'V3011A', 'V3012', 'V3013', 'V3013A', 'V3013B', 'V3014', 'V4001',\n",
       "       'V4002', 'V4003', 'V4004', 'V4005', 'V4006A', 'V4008', 'V40081',\n",
       "       'V40082', 'V40083', 'V4009', 'V4010', 'V4012', 'V40121', 'V4013',\n",
       "       'V40132A', 'V4014', 'V4015', 'V40151', 'V401511', 'V401512',\n",
       "       'V4016', 'V40161', 'V40162', 'V40163', 'V4017', 'V40171',\n",
       "       'V401711', 'V4018', 'V40181', 'V40182', 'V40183', 'V4019', 'V4020',\n",
       "       'V4021', 'V4022', 'V4024', 'V4025', 'V4026', 'V4027', 'V4028',\n",
       "       'V4029', 'V4030', 'V4031', 'V4032', 'V4033', 'V40331', 'V403311',\n",
       "       'V403312', 'V40332', 'V403321', 'V403322', 'V40333', 'V403331',\n",
       "       'V4034', 'V40341', 'V403411', 'V403412', 'V40342', 'V403421',\n",
       "       'V403422', 'V4035', 'V4036', 'V4039', 'V4039C', 'V4040', 'V40401',\n",
       "       'V40402', 'V40403', 'V4041', 'V4043', 'V40431', 'V4044', 'V4045',\n",
       "       'V4046', 'V4047', 'V4048', 'V4049', 'V4050', 'V40501', 'V405011',\n",
       "       'V405012', 'V40502', 'V405021', 'V405022', 'V40503', 'V405031',\n",
       "       'V4051', 'V40511', 'V405111', 'V405112', 'V40512', 'V405121',\n",
       "       'V405122', 'V4052', 'V4053', 'V4056', 'V4056C', 'V4057', 'V4058',\n",
       "       'V40581', 'V405811', 'V405812', 'V40582', 'V405821', 'V405822',\n",
       "       'V40583', 'V405831', 'V40584', 'V4059', 'V40591', 'V405911',\n",
       "       'V405912', 'V40592', 'V405921', 'V405922', 'V4062', 'V4062C',\n",
       "       'V4063A', 'V4064A', 'V4071', 'V4072A', 'V4073', 'V4074A', 'V4075A',\n",
       "       'V4075A1', 'V4076', 'V40761', 'V40762', 'V40763', 'V4077',\n",
       "       'V4078A', 'V4082', 'V4097', 'V5001A', 'V5001A2', 'V5002A',\n",
       "       'V5002A2', 'V5003A', 'V5003A2', 'V5004A', 'V5004A2', 'V5005A',\n",
       "       'V5005A2', 'V5006A', 'V5006A2', 'V5007A', 'V5007A2', 'V5008A',\n",
       "       'V5008A2', 'S01001', 'S01002', 'S01003', 'S01004', 'S01005',\n",
       "       'S01006', 'S01007', 'S01007a', 'S01008', 'S01009', 'S01010',\n",
       "       'S01011A', 'S01011B', 'S01011C', 'S01012A', 'S01013', 'S01014',\n",
       "       'S010141', 'S010142', 'S01015', 'S01016A', 'S01016A1', 'S01016A2',\n",
       "       'S01016A3', 'S01016A4', 'S01016A5', 'S01017', 'S01018', 'S01019',\n",
       "       'S01020', 'S01020A', 'S01021', 'S01022', 'S01023', 'S01024',\n",
       "       'S01025', 'S01026', 'S01027', 'S01028', 'S01029', 'S01030',\n",
       "       'S010301', 'S010302', 'S010303', 'S010304', 'S010305', 'S01031',\n",
       "       'S010311', 'S010312', 'VD2002', 'VD2003', 'VD2004', 'VD3004',\n",
       "       'VD3005', 'VD3006', 'VD4001', 'VD4002', 'VD4003', 'VD4004A',\n",
       "       'VD4005', 'VD4007', 'VD4008', 'VD4009', 'VD4010', 'VD4011',\n",
       "       'VD4012', 'VD4013', 'VD4014', 'VD4015', 'VD4016', 'VD4017',\n",
       "       'VD4018', 'VD4019', 'VD4020', 'VD4022', 'VD4030', 'VD4031',\n",
       "       'VD4035', 'VD4036', 'VD4037', 'VD4046', 'VD4047', 'VD4048',\n",
       "       'VD4052', 'VD5001', 'VD5002', 'VD5003', 'VD5004', 'VD5005',\n",
       "       'VD5006', 'VD5007', 'VD5008', 'VD5009', 'VD5010', 'VD5011',\n",
       "       'VD5012', 'CO1', 'CO1e', 'CO2', 'CO2e', 'CO3', 'IDpes', 'IDdom'],\n",
       "      dtype=object)"
      ]
     },
     "execution_count": 5,
     "metadata": {},
     "output_type": "execute_result"
    }
   ],
   "source": [
    "pnadc2019.columns.values "
   ]
  },
  {
   "cell_type": "code",
   "execution_count": 6,
   "metadata": {},
   "outputs": [],
   "source": [
    "dfpnadc = pnadc2019.filter(items=['UF','Capital','V4001','V4029','V4032','V4012','V4019','V4009','V1022','V2001','V3002','V2005','V2007','V2009','V2010','VD4035','VD4020','V4001','V4002',\n",
    "                                  'V4003','V4004','V4009','V403411','V4071','V4074A','V5001A','V5001A2','VD2002','V5002A','V5002A2',\n",
    "                                 'VD3004','VD3005','VD5002','VD5003','VD4046','VD4047','IDpes', 'IDdom'])"
   ]
  },
  {
   "cell_type": "code",
   "execution_count": 7,
   "metadata": {},
   "outputs": [],
   "source": [
    "#Excluindo colunas duplicadas( caso sejam criadas acidentalmente)\n",
    "dfpnadc = dfpnadc.loc[:,~dfpnadc.columns.duplicated()]"
   ]
  },
  {
   "cell_type": "code",
   "execution_count": 8,
   "metadata": {},
   "outputs": [
    {
     "data": {
      "text/html": [
       "<div>\n",
       "<style scoped>\n",
       "    .dataframe tbody tr th:only-of-type {\n",
       "        vertical-align: middle;\n",
       "    }\n",
       "\n",
       "    .dataframe tbody tr th {\n",
       "        vertical-align: top;\n",
       "    }\n",
       "\n",
       "    .dataframe thead th {\n",
       "        text-align: right;\n",
       "    }\n",
       "</style>\n",
       "<table border=\"1\" class=\"dataframe\">\n",
       "  <thead>\n",
       "    <tr style=\"text-align: right;\">\n",
       "      <th></th>\n",
       "      <th>UF</th>\n",
       "      <th>Capital</th>\n",
       "      <th>V4001</th>\n",
       "      <th>V4029</th>\n",
       "      <th>V4032</th>\n",
       "      <th>V4012</th>\n",
       "      <th>V4019</th>\n",
       "      <th>V4009</th>\n",
       "      <th>V1022</th>\n",
       "      <th>V2001</th>\n",
       "      <th>...</th>\n",
       "      <th>V5002A</th>\n",
       "      <th>V5002A2</th>\n",
       "      <th>VD3004</th>\n",
       "      <th>VD3005</th>\n",
       "      <th>VD5002</th>\n",
       "      <th>VD5003</th>\n",
       "      <th>VD4046</th>\n",
       "      <th>VD4047</th>\n",
       "      <th>IDpes</th>\n",
       "      <th>IDdom</th>\n",
       "    </tr>\n",
       "  </thead>\n",
       "  <tbody>\n",
       "    <tr>\n",
       "      <td>0</td>\n",
       "      <td>11</td>\n",
       "      <td>11.0</td>\n",
       "      <td>1.0</td>\n",
       "      <td>1.0</td>\n",
       "      <td>NaN</td>\n",
       "      <td>3.0</td>\n",
       "      <td>NaN</td>\n",
       "      <td>1.0</td>\n",
       "      <td>1</td>\n",
       "      <td>5</td>\n",
       "      <td>...</td>\n",
       "      <td>2</td>\n",
       "      <td>NaN</td>\n",
       "      <td>7.0</td>\n",
       "      <td>16.0</td>\n",
       "      <td>921.0</td>\n",
       "      <td>3.0</td>\n",
       "      <td>1983.0</td>\n",
       "      <td>NaN</td>\n",
       "      <td>110000016010701</td>\n",
       "      <td>1100000160107</td>\n",
       "    </tr>\n",
       "    <tr>\n",
       "      <td>1</td>\n",
       "      <td>11</td>\n",
       "      <td>11.0</td>\n",
       "      <td>2.0</td>\n",
       "      <td>NaN</td>\n",
       "      <td>NaN</td>\n",
       "      <td>NaN</td>\n",
       "      <td>NaN</td>\n",
       "      <td>NaN</td>\n",
       "      <td>1</td>\n",
       "      <td>5</td>\n",
       "      <td>...</td>\n",
       "      <td>2</td>\n",
       "      <td>NaN</td>\n",
       "      <td>3.0</td>\n",
       "      <td>9.0</td>\n",
       "      <td>921.0</td>\n",
       "      <td>3.0</td>\n",
       "      <td>954.0</td>\n",
       "      <td>954.0</td>\n",
       "      <td>110000016010702</td>\n",
       "      <td>1100000160107</td>\n",
       "    </tr>\n",
       "    <tr>\n",
       "      <td>2</td>\n",
       "      <td>11</td>\n",
       "      <td>11.0</td>\n",
       "      <td>2.0</td>\n",
       "      <td>NaN</td>\n",
       "      <td>NaN</td>\n",
       "      <td>NaN</td>\n",
       "      <td>NaN</td>\n",
       "      <td>NaN</td>\n",
       "      <td>1</td>\n",
       "      <td>5</td>\n",
       "      <td>...</td>\n",
       "      <td>2</td>\n",
       "      <td>NaN</td>\n",
       "      <td>5.0</td>\n",
       "      <td>12.0</td>\n",
       "      <td>921.0</td>\n",
       "      <td>3.0</td>\n",
       "      <td>NaN</td>\n",
       "      <td>NaN</td>\n",
       "      <td>110000016010703</td>\n",
       "      <td>1100000160107</td>\n",
       "    </tr>\n",
       "    <tr>\n",
       "      <td>3</td>\n",
       "      <td>11</td>\n",
       "      <td>11.0</td>\n",
       "      <td>2.0</td>\n",
       "      <td>NaN</td>\n",
       "      <td>NaN</td>\n",
       "      <td>NaN</td>\n",
       "      <td>NaN</td>\n",
       "      <td>NaN</td>\n",
       "      <td>1</td>\n",
       "      <td>5</td>\n",
       "      <td>...</td>\n",
       "      <td>2</td>\n",
       "      <td>NaN</td>\n",
       "      <td>5.0</td>\n",
       "      <td>12.0</td>\n",
       "      <td>921.0</td>\n",
       "      <td>3.0</td>\n",
       "      <td>NaN</td>\n",
       "      <td>NaN</td>\n",
       "      <td>110000016010704</td>\n",
       "      <td>1100000160107</td>\n",
       "    </tr>\n",
       "    <tr>\n",
       "      <td>4</td>\n",
       "      <td>11</td>\n",
       "      <td>11.0</td>\n",
       "      <td>NaN</td>\n",
       "      <td>NaN</td>\n",
       "      <td>NaN</td>\n",
       "      <td>NaN</td>\n",
       "      <td>NaN</td>\n",
       "      <td>NaN</td>\n",
       "      <td>1</td>\n",
       "      <td>5</td>\n",
       "      <td>...</td>\n",
       "      <td>2</td>\n",
       "      <td>NaN</td>\n",
       "      <td>1.0</td>\n",
       "      <td>0.0</td>\n",
       "      <td>921.0</td>\n",
       "      <td>3.0</td>\n",
       "      <td>NaN</td>\n",
       "      <td>NaN</td>\n",
       "      <td>110000016010705</td>\n",
       "      <td>1100000160107</td>\n",
       "    </tr>\n",
       "  </tbody>\n",
       "</table>\n",
       "<p>5 rows × 36 columns</p>\n",
       "</div>"
      ],
      "text/plain": [
       "   UF  Capital  V4001  V4029  V4032  V4012  V4019  V4009  V1022  V2001  ...  \\\n",
       "0  11     11.0    1.0    1.0    NaN    3.0    NaN    1.0      1      5  ...   \n",
       "1  11     11.0    2.0    NaN    NaN    NaN    NaN    NaN      1      5  ...   \n",
       "2  11     11.0    2.0    NaN    NaN    NaN    NaN    NaN      1      5  ...   \n",
       "3  11     11.0    2.0    NaN    NaN    NaN    NaN    NaN      1      5  ...   \n",
       "4  11     11.0    NaN    NaN    NaN    NaN    NaN    NaN      1      5  ...   \n",
       "\n",
       "   V5002A  V5002A2  VD3004  VD3005  VD5002  VD5003  VD4046  VD4047  \\\n",
       "0       2      NaN     7.0    16.0   921.0     3.0  1983.0     NaN   \n",
       "1       2      NaN     3.0     9.0   921.0     3.0   954.0   954.0   \n",
       "2       2      NaN     5.0    12.0   921.0     3.0     NaN     NaN   \n",
       "3       2      NaN     5.0    12.0   921.0     3.0     NaN     NaN   \n",
       "4       2      NaN     1.0     0.0   921.0     3.0     NaN     NaN   \n",
       "\n",
       "             IDpes          IDdom  \n",
       "0  110000016010701  1100000160107  \n",
       "1  110000016010702  1100000160107  \n",
       "2  110000016010703  1100000160107  \n",
       "3  110000016010704  1100000160107  \n",
       "4  110000016010705  1100000160107  \n",
       "\n",
       "[5 rows x 36 columns]"
      ]
     },
     "execution_count": 8,
     "metadata": {},
     "output_type": "execute_result"
    }
   ],
   "source": [
    "dfpnadc.head()"
   ]
  },
  {
   "cell_type": "code",
   "execution_count": 9,
   "metadata": {},
   "outputs": [
    {
     "data": {
      "text/plain": [
       "True"
      ]
     },
     "execution_count": 9,
     "metadata": {},
     "output_type": "execute_result"
    }
   ],
   "source": [
    "#verificando se existe missings\n",
    "dfpnadc.isnull().values.any()"
   ]
  },
  {
   "cell_type": "markdown",
   "metadata": {},
   "source": [
    "# Renomeando colunas e ajustando valores"
   ]
  },
  {
   "cell_type": "code",
   "execution_count": 10,
   "metadata": {},
   "outputs": [],
   "source": [
    "dfpnadc.rename( columns = {'V2007':'Sexo','V4001':'Trabalhou_nasemana_deref','V4019':'tem_CNPJ','V4032':'Contribuia_com_previdencia','V4029':'trabalhaca_com_carteira_assinada','V4012':'neste_trabalho_era','V40121':'trabalhador_naoremunerado','V4009':'quantos_empregostinha','V2009':'Idade','V3002':'frequenta_escola','V403411':'Numerodafaixadorendimento','VD5002':'Rendimento_efetivo_domiciliar_per_capita','VD5003':'Faixa_de_rendimento_efetivo_domiciliar_per_capita','V2005':'Condicaonodomicilio','V5001A':'BPC', 'V5001A2': 'Valor_do_BPC','V5002A':'PBF','V5002A2':'Valor_do_PBF','VD4020':'RendaBruta','VD4035':'Horas_trabalhadas_semanaREF'}, inplace = True)"
   ]
  },
  {
   "cell_type": "code",
   "execution_count": 11,
   "metadata": {},
   "outputs": [],
   "source": [
    "dfpnadc['BPC'] = dfpnadc['BPC'].replace(2,0)\n",
    "dfpnadc['Sexo'] = dfpnadc['Sexo'].replace(2,0)\n",
    "dfpnadc['PBF'] = dfpnadc['PBF'].replace(2,0)"
   ]
  },
  {
   "cell_type": "code",
   "execution_count": 12,
   "metadata": {},
   "outputs": [
    {
     "data": {
      "text/html": [
       "<div>\n",
       "<style scoped>\n",
       "    .dataframe tbody tr th:only-of-type {\n",
       "        vertical-align: middle;\n",
       "    }\n",
       "\n",
       "    .dataframe tbody tr th {\n",
       "        vertical-align: top;\n",
       "    }\n",
       "\n",
       "    .dataframe thead th {\n",
       "        text-align: right;\n",
       "    }\n",
       "</style>\n",
       "<table border=\"1\" class=\"dataframe\">\n",
       "  <thead>\n",
       "    <tr style=\"text-align: right;\">\n",
       "      <th></th>\n",
       "      <th>UF</th>\n",
       "      <th>Capital</th>\n",
       "      <th>Trabalhou_nasemana_deref</th>\n",
       "      <th>trabalhaca_com_carteira_assinada</th>\n",
       "      <th>Contribuia_com_previdencia</th>\n",
       "      <th>neste_trabalho_era</th>\n",
       "      <th>tem_CNPJ</th>\n",
       "      <th>quantos_empregostinha</th>\n",
       "      <th>V1022</th>\n",
       "      <th>V2001</th>\n",
       "      <th>...</th>\n",
       "      <th>PBF</th>\n",
       "      <th>Valor_do_PBF</th>\n",
       "      <th>VD3004</th>\n",
       "      <th>VD3005</th>\n",
       "      <th>Rendimento_efetivo_domiciliar_per_capita</th>\n",
       "      <th>Faixa_de_rendimento_efetivo_domiciliar_per_capita</th>\n",
       "      <th>VD4046</th>\n",
       "      <th>VD4047</th>\n",
       "      <th>IDpes</th>\n",
       "      <th>IDdom</th>\n",
       "    </tr>\n",
       "  </thead>\n",
       "  <tbody>\n",
       "    <tr>\n",
       "      <td>0</td>\n",
       "      <td>11</td>\n",
       "      <td>11.0</td>\n",
       "      <td>1.0</td>\n",
       "      <td>1.0</td>\n",
       "      <td>NaN</td>\n",
       "      <td>3.0</td>\n",
       "      <td>NaN</td>\n",
       "      <td>1.0</td>\n",
       "      <td>1</td>\n",
       "      <td>5</td>\n",
       "      <td>...</td>\n",
       "      <td>0</td>\n",
       "      <td>NaN</td>\n",
       "      <td>7.0</td>\n",
       "      <td>16.0</td>\n",
       "      <td>921.0</td>\n",
       "      <td>3.0</td>\n",
       "      <td>1983.0</td>\n",
       "      <td>NaN</td>\n",
       "      <td>110000016010701</td>\n",
       "      <td>1100000160107</td>\n",
       "    </tr>\n",
       "    <tr>\n",
       "      <td>1</td>\n",
       "      <td>11</td>\n",
       "      <td>11.0</td>\n",
       "      <td>2.0</td>\n",
       "      <td>NaN</td>\n",
       "      <td>NaN</td>\n",
       "      <td>NaN</td>\n",
       "      <td>NaN</td>\n",
       "      <td>NaN</td>\n",
       "      <td>1</td>\n",
       "      <td>5</td>\n",
       "      <td>...</td>\n",
       "      <td>0</td>\n",
       "      <td>NaN</td>\n",
       "      <td>3.0</td>\n",
       "      <td>9.0</td>\n",
       "      <td>921.0</td>\n",
       "      <td>3.0</td>\n",
       "      <td>954.0</td>\n",
       "      <td>954.0</td>\n",
       "      <td>110000016010702</td>\n",
       "      <td>1100000160107</td>\n",
       "    </tr>\n",
       "    <tr>\n",
       "      <td>2</td>\n",
       "      <td>11</td>\n",
       "      <td>11.0</td>\n",
       "      <td>2.0</td>\n",
       "      <td>NaN</td>\n",
       "      <td>NaN</td>\n",
       "      <td>NaN</td>\n",
       "      <td>NaN</td>\n",
       "      <td>NaN</td>\n",
       "      <td>1</td>\n",
       "      <td>5</td>\n",
       "      <td>...</td>\n",
       "      <td>0</td>\n",
       "      <td>NaN</td>\n",
       "      <td>5.0</td>\n",
       "      <td>12.0</td>\n",
       "      <td>921.0</td>\n",
       "      <td>3.0</td>\n",
       "      <td>NaN</td>\n",
       "      <td>NaN</td>\n",
       "      <td>110000016010703</td>\n",
       "      <td>1100000160107</td>\n",
       "    </tr>\n",
       "    <tr>\n",
       "      <td>3</td>\n",
       "      <td>11</td>\n",
       "      <td>11.0</td>\n",
       "      <td>2.0</td>\n",
       "      <td>NaN</td>\n",
       "      <td>NaN</td>\n",
       "      <td>NaN</td>\n",
       "      <td>NaN</td>\n",
       "      <td>NaN</td>\n",
       "      <td>1</td>\n",
       "      <td>5</td>\n",
       "      <td>...</td>\n",
       "      <td>0</td>\n",
       "      <td>NaN</td>\n",
       "      <td>5.0</td>\n",
       "      <td>12.0</td>\n",
       "      <td>921.0</td>\n",
       "      <td>3.0</td>\n",
       "      <td>NaN</td>\n",
       "      <td>NaN</td>\n",
       "      <td>110000016010704</td>\n",
       "      <td>1100000160107</td>\n",
       "    </tr>\n",
       "    <tr>\n",
       "      <td>4</td>\n",
       "      <td>11</td>\n",
       "      <td>11.0</td>\n",
       "      <td>NaN</td>\n",
       "      <td>NaN</td>\n",
       "      <td>NaN</td>\n",
       "      <td>NaN</td>\n",
       "      <td>NaN</td>\n",
       "      <td>NaN</td>\n",
       "      <td>1</td>\n",
       "      <td>5</td>\n",
       "      <td>...</td>\n",
       "      <td>0</td>\n",
       "      <td>NaN</td>\n",
       "      <td>1.0</td>\n",
       "      <td>0.0</td>\n",
       "      <td>921.0</td>\n",
       "      <td>3.0</td>\n",
       "      <td>NaN</td>\n",
       "      <td>NaN</td>\n",
       "      <td>110000016010705</td>\n",
       "      <td>1100000160107</td>\n",
       "    </tr>\n",
       "  </tbody>\n",
       "</table>\n",
       "<p>5 rows × 36 columns</p>\n",
       "</div>"
      ],
      "text/plain": [
       "   UF  Capital  Trabalhou_nasemana_deref  trabalhaca_com_carteira_assinada  \\\n",
       "0  11     11.0                       1.0                               1.0   \n",
       "1  11     11.0                       2.0                               NaN   \n",
       "2  11     11.0                       2.0                               NaN   \n",
       "3  11     11.0                       2.0                               NaN   \n",
       "4  11     11.0                       NaN                               NaN   \n",
       "\n",
       "   Contribuia_com_previdencia  neste_trabalho_era  tem_CNPJ  \\\n",
       "0                         NaN                 3.0       NaN   \n",
       "1                         NaN                 NaN       NaN   \n",
       "2                         NaN                 NaN       NaN   \n",
       "3                         NaN                 NaN       NaN   \n",
       "4                         NaN                 NaN       NaN   \n",
       "\n",
       "   quantos_empregostinha  V1022  V2001  ...  PBF  Valor_do_PBF  VD3004  \\\n",
       "0                    1.0      1      5  ...    0           NaN     7.0   \n",
       "1                    NaN      1      5  ...    0           NaN     3.0   \n",
       "2                    NaN      1      5  ...    0           NaN     5.0   \n",
       "3                    NaN      1      5  ...    0           NaN     5.0   \n",
       "4                    NaN      1      5  ...    0           NaN     1.0   \n",
       "\n",
       "   VD3005  Rendimento_efetivo_domiciliar_per_capita  \\\n",
       "0    16.0                                     921.0   \n",
       "1     9.0                                     921.0   \n",
       "2    12.0                                     921.0   \n",
       "3    12.0                                     921.0   \n",
       "4     0.0                                     921.0   \n",
       "\n",
       "   Faixa_de_rendimento_efetivo_domiciliar_per_capita  VD4046  VD4047  \\\n",
       "0                                                3.0  1983.0     NaN   \n",
       "1                                                3.0   954.0   954.0   \n",
       "2                                                3.0     NaN     NaN   \n",
       "3                                                3.0     NaN     NaN   \n",
       "4                                                3.0     NaN     NaN   \n",
       "\n",
       "             IDpes          IDdom  \n",
       "0  110000016010701  1100000160107  \n",
       "1  110000016010702  1100000160107  \n",
       "2  110000016010703  1100000160107  \n",
       "3  110000016010704  1100000160107  \n",
       "4  110000016010705  1100000160107  \n",
       "\n",
       "[5 rows x 36 columns]"
      ]
     },
     "execution_count": 12,
     "metadata": {},
     "output_type": "execute_result"
    }
   ],
   "source": [
    "dfpnadc.head()"
   ]
  },
  {
   "cell_type": "code",
   "execution_count": 13,
   "metadata": {},
   "outputs": [
    {
     "data": {
      "text/plain": [
       "count    443790.000000\n",
       "mean          0.015397\n",
       "std           0.123126\n",
       "min           0.000000\n",
       "25%           0.000000\n",
       "50%           0.000000\n",
       "75%           0.000000\n",
       "max           1.000000\n",
       "Name: BPC, dtype: float64"
      ]
     },
     "execution_count": 13,
     "metadata": {},
     "output_type": "execute_result"
    }
   ],
   "source": [
    "dfpnadc['BPC'].describe()"
   ]
  },
  {
   "cell_type": "code",
   "execution_count": 15,
   "metadata": {},
   "outputs": [
    {
     "data": {
      "text/html": [
       "<div>\n",
       "<style scoped>\n",
       "    .dataframe tbody tr th:only-of-type {\n",
       "        vertical-align: middle;\n",
       "    }\n",
       "\n",
       "    .dataframe tbody tr th {\n",
       "        vertical-align: top;\n",
       "    }\n",
       "\n",
       "    .dataframe thead th {\n",
       "        text-align: right;\n",
       "    }\n",
       "</style>\n",
       "<table border=\"1\" class=\"dataframe\">\n",
       "  <thead>\n",
       "    <tr style=\"text-align: right;\">\n",
       "      <th></th>\n",
       "      <th>IDpes</th>\n",
       "    </tr>\n",
       "    <tr>\n",
       "      <th>BPC</th>\n",
       "      <th></th>\n",
       "    </tr>\n",
       "  </thead>\n",
       "  <tbody>\n",
       "    <tr>\n",
       "      <td>0</td>\n",
       "      <td>436957</td>\n",
       "    </tr>\n",
       "    <tr>\n",
       "      <td>1</td>\n",
       "      <td>6833</td>\n",
       "    </tr>\n",
       "  </tbody>\n",
       "</table>\n",
       "</div>"
      ],
      "text/plain": [
       "      IDpes\n",
       "BPC        \n",
       "0    436957\n",
       "1      6833"
      ]
     },
     "execution_count": 15,
     "metadata": {},
     "output_type": "execute_result"
    }
   ],
   "source": [
    "#numero de indivíduos que recebem BPC na base vs os que não recebem em termos absolutos\n",
    "dfpnadc.filter(items=['BPC','IDpes']).groupby('BPC').count()"
   ]
  },
  {
   "cell_type": "code",
   "execution_count": 16,
   "metadata": {},
   "outputs": [
    {
     "data": {
      "text/plain": [
       "[98.46030780324027, 1.5396921967597288]"
      ]
     },
     "execution_count": 16,
     "metadata": {},
     "output_type": "execute_result"
    }
   ],
   "source": [
    "# em termos percentuais temos : \n",
    "coluna_bpc = dfpnadc['BPC']\n",
    "dist_BPC = coluna_bpc.value_counts()\n",
    "percentualBPC = [100*x/dist_BPC.sum() for x in dist_BPC]\n",
    "percentualBPC\n",
    "# 1.54% da base recebe BPC"
   ]
  },
  {
   "cell_type": "markdown",
   "metadata": {},
   "source": [
    "\n",
    "## primeiro corte: Corte de renda: 2/4 e 3/4 do salário mínimo.\n",
    "## Renda (bruta total - BPC)/ n pessas na família. -> Realizar isso por domicílio e por família.\n",
    "# como fazer isso? -> primeiro: a renda per capita da família:>=499,>=748,5 e >=998  de forma binária"
   ]
  },
  {
   "cell_type": "markdown",
   "metadata": {},
   "source": [
    "## Temos que agrupar as famílias"
   ]
  },
  {
   "cell_type": "code",
   "execution_count": 17,
   "metadata": {},
   "outputs": [
    {
     "data": {
      "text/html": [
       "<div>\n",
       "<style scoped>\n",
       "    .dataframe tbody tr th:only-of-type {\n",
       "        vertical-align: middle;\n",
       "    }\n",
       "\n",
       "    .dataframe tbody tr th {\n",
       "        vertical-align: top;\n",
       "    }\n",
       "\n",
       "    .dataframe thead th {\n",
       "        text-align: right;\n",
       "    }\n",
       "</style>\n",
       "<table border=\"1\" class=\"dataframe\">\n",
       "  <thead>\n",
       "    <tr style=\"text-align: right;\">\n",
       "      <th></th>\n",
       "      <th>IDdom</th>\n",
       "    </tr>\n",
       "    <tr>\n",
       "      <th>BPC</th>\n",
       "      <th></th>\n",
       "    </tr>\n",
       "  </thead>\n",
       "  <tbody>\n",
       "    <tr>\n",
       "      <td>1</td>\n",
       "      <td>6833</td>\n",
       "    </tr>\n",
       "    <tr>\n",
       "      <td>0</td>\n",
       "      <td>436957</td>\n",
       "    </tr>\n",
       "  </tbody>\n",
       "</table>\n",
       "</div>"
      ],
      "text/plain": [
       "      IDdom\n",
       "BPC        \n",
       "1      6833\n",
       "0    436957"
      ]
     },
     "execution_count": 17,
     "metadata": {},
     "output_type": "execute_result"
    }
   ],
   "source": [
    "dfpnadc.filter(items= ['IDdom','BPC']).groupby('BPC').count().sort_values(by='IDdom')"
   ]
  },
  {
   "cell_type": "markdown",
   "metadata": {},
   "source": [
    "### quantas familias que tem mais do que 1 beneficiário que recebe BPC ?"
   ]
  },
  {
   "cell_type": "code",
   "execution_count": 18,
   "metadata": {},
   "outputs": [
    {
     "name": "stdout",
     "output_type": "stream",
     "text": [
      "              IDpes\n",
      "IDdom              \n",
      "3.302882e+12      5\n",
      "4.200079e+12      4\n",
      "1.300252e+12      3\n",
      "3.301928e+12      3\n",
      "1.500844e+12      3\n",
      "...             ...\n",
      "2.400180e+12      1\n",
      "2.400180e+12      1\n",
      "2.400174e+12      1\n",
      "2.400174e+12      1\n",
      "5.300511e+12      1\n",
      "\n",
      "[6351 rows x 1 columns]\n"
     ]
    }
   ],
   "source": [
    "z =dfpnadc.filter(items= ['IDpes','IDdom'])\\\n",
    "                            .where(dfpnadc.BPC == 1)\\\n",
    "                            .groupby('IDdom').count().sort_values(by='IDpes', ascending= False)\n",
    "print(z)"
   ]
  },
  {
   "cell_type": "code",
   "execution_count": 19,
   "metadata": {},
   "outputs": [
    {
     "name": "stdout",
     "output_type": "stream",
     "text": [
      "              IDpes\n",
      "IDdom              \n",
      "3.302882e+12      5\n",
      "4.200079e+12      4\n",
      "1.300252e+12      3\n",
      "3.301928e+12      3\n",
      "1.500844e+12      3\n",
      "...             ...\n",
      "2.200215e+12      2\n",
      "5.200107e+12      2\n",
      "3.303247e+12      2\n",
      "2.900394e+12      2\n",
      "5.300319e+12      2\n",
      "\n",
      "[463 rows x 1 columns]\n"
     ]
    }
   ],
   "source": [
    "#valor absoluto de domicílios com mais do q 1 pessoa recebendo BPC\n",
    "x = z[z['IDpes'] > 1]\n",
    "\n",
    "print(x)"
   ]
  },
  {
   "cell_type": "code",
   "execution_count": 20,
   "metadata": {},
   "outputs": [
    {
     "data": {
      "text/plain": [
       "[92.70980947882224,\n",
       " 7.038261691072272,\n",
       " 0.2204377263423083,\n",
       " 0.01574555188159345,\n",
       " 0.01574555188159345]"
      ]
     },
     "execution_count": 20,
     "metadata": {},
     "output_type": "execute_result"
    }
   ],
   "source": [
    "#Em termos %% o número de pessoas que recebe>1 BPC no mesmo domicilio\n",
    "coluna_bpc = z['IDpes']\n",
    "dist_BPC = coluna_bpc.value_counts()\n",
    "percentualBPC = [100*x/dist_BPC.sum() for x in dist_BPC]\n",
    "percentualBPC\n",
    "# 92,7% são domicilios q recebem 1 BPC "
   ]
  },
  {
   "cell_type": "code",
   "execution_count": 21,
   "metadata": {},
   "outputs": [
    {
     "name": "stdout",
     "output_type": "stream",
     "text": [
      "              IDpes  Maiordq1BPC\n",
      "IDdom                           \n",
      "3.302882e+12      5          1.0\n",
      "4.200079e+12      4          1.0\n",
      "1.300252e+12      3          1.0\n",
      "3.301928e+12      3          1.0\n",
      "1.500844e+12      3          1.0\n",
      "...             ...          ...\n",
      "2.400180e+12      1          0.0\n",
      "2.400180e+12      1          0.0\n",
      "2.400174e+12      1          0.0\n",
      "2.400174e+12      1          0.0\n",
      "5.300511e+12      1          0.0\n",
      "\n",
      "[6351 rows x 2 columns]\n"
     ]
    }
   ],
   "source": [
    "z['Maiordq1BPC'] = z[z['IDpes']>1]\n",
    "z['Maiordq1BPC'] = z['Maiordq1BPC'].replace(3,1)\n",
    "z['Maiordq1BPC'] = z['Maiordq1BPC'].replace(2,1)\n",
    "z['Maiordq1BPC'] = z['Maiordq1BPC'].replace(4,1)\n",
    "z['Maiordq1BPC'] = z['Maiordq1BPC'].replace(5,1)\n",
    "z.fillna(0,inplace=True) # preenchendo os missings com 0 em definitivo\n",
    "\n",
    "print(z)"
   ]
  },
  {
   "cell_type": "markdown",
   "metadata": {},
   "source": [
    "# Identificando a posição no domicílio"
   ]
  },
  {
   "cell_type": "code",
   "execution_count": 22,
   "metadata": {},
   "outputs": [
    {
     "data": {
      "text/html": [
       "<div>\n",
       "<style scoped>\n",
       "    .dataframe tbody tr th:only-of-type {\n",
       "        vertical-align: middle;\n",
       "    }\n",
       "\n",
       "    .dataframe tbody tr th {\n",
       "        vertical-align: top;\n",
       "    }\n",
       "\n",
       "    .dataframe thead th {\n",
       "        text-align: right;\n",
       "    }\n",
       "</style>\n",
       "<table border=\"1\" class=\"dataframe\">\n",
       "  <thead>\n",
       "    <tr style=\"text-align: right;\">\n",
       "      <th></th>\n",
       "      <th>IDpes</th>\n",
       "    </tr>\n",
       "    <tr>\n",
       "      <th>Condicaonodomicilio</th>\n",
       "      <th></th>\n",
       "    </tr>\n",
       "  </thead>\n",
       "  <tbody>\n",
       "    <tr>\n",
       "      <td>1</td>\n",
       "      <td>150667</td>\n",
       "    </tr>\n",
       "    <tr>\n",
       "      <td>4</td>\n",
       "      <td>96021</td>\n",
       "    </tr>\n",
       "    <tr>\n",
       "      <td>2</td>\n",
       "      <td>93818</td>\n",
       "    </tr>\n",
       "    <tr>\n",
       "      <td>5</td>\n",
       "      <td>47789</td>\n",
       "    </tr>\n",
       "    <tr>\n",
       "      <td>10</td>\n",
       "      <td>20255</td>\n",
       "    </tr>\n",
       "    <tr>\n",
       "      <td>8</td>\n",
       "      <td>6979</td>\n",
       "    </tr>\n",
       "    <tr>\n",
       "      <td>14</td>\n",
       "      <td>6449</td>\n",
       "    </tr>\n",
       "    <tr>\n",
       "      <td>12</td>\n",
       "      <td>6208</td>\n",
       "    </tr>\n",
       "    <tr>\n",
       "      <td>6</td>\n",
       "      <td>6110</td>\n",
       "    </tr>\n",
       "    <tr>\n",
       "      <td>7</td>\n",
       "      <td>4379</td>\n",
       "    </tr>\n",
       "    <tr>\n",
       "      <td>16</td>\n",
       "      <td>1308</td>\n",
       "    </tr>\n",
       "    <tr>\n",
       "      <td>9</td>\n",
       "      <td>1254</td>\n",
       "    </tr>\n",
       "    <tr>\n",
       "      <td>15</td>\n",
       "      <td>995</td>\n",
       "    </tr>\n",
       "    <tr>\n",
       "      <td>11</td>\n",
       "      <td>721</td>\n",
       "    </tr>\n",
       "    <tr>\n",
       "      <td>3</td>\n",
       "      <td>358</td>\n",
       "    </tr>\n",
       "    <tr>\n",
       "      <td>13</td>\n",
       "      <td>321</td>\n",
       "    </tr>\n",
       "    <tr>\n",
       "      <td>18</td>\n",
       "      <td>117</td>\n",
       "    </tr>\n",
       "    <tr>\n",
       "      <td>19</td>\n",
       "      <td>24</td>\n",
       "    </tr>\n",
       "    <tr>\n",
       "      <td>17</td>\n",
       "      <td>17</td>\n",
       "    </tr>\n",
       "  </tbody>\n",
       "</table>\n",
       "</div>"
      ],
      "text/plain": [
       "                      IDpes\n",
       "Condicaonodomicilio        \n",
       "1                    150667\n",
       "4                     96021\n",
       "2                     93818\n",
       "5                     47789\n",
       "10                    20255\n",
       "8                      6979\n",
       "14                     6449\n",
       "12                     6208\n",
       "6                      6110\n",
       "7                      4379\n",
       "16                     1308\n",
       "9                      1254\n",
       "15                      995\n",
       "11                      721\n",
       "3                       358\n",
       "13                      321\n",
       "18                      117\n",
       "19                       24\n",
       "17                       17"
      ]
     },
     "execution_count": 22,
     "metadata": {},
     "output_type": "execute_result"
    }
   ],
   "source": [
    "dfpnadc.filter(items= ['IDpes','Condicaonodomicilio']).groupby('Condicaonodomicilio').count().sort_values(by='IDpes', ascending = False)"
   ]
  },
  {
   "cell_type": "code",
   "execution_count": 23,
   "metadata": {},
   "outputs": [
    {
     "data": {
      "text/plain": [
       "[33.95006647288132,\n",
       " 21.636584871222876,\n",
       " 21.140178913450054,\n",
       " 10.768381441672863,\n",
       " 4.564095630816377,\n",
       " 1.5725906397169833,\n",
       " 1.4531647851461276,\n",
       " 1.39885982108655,\n",
       " 1.3767773045809955,\n",
       " 0.9867279569165597,\n",
       " 0.2947339958088285,\n",
       " 0.28256607855066584,\n",
       " 0.22420514207170059,\n",
       " 0.16246422857657902,\n",
       " 0.08066878478559679,\n",
       " 0.07233150814574461,\n",
       " 0.026363820726019064,\n",
       " 0.005407963225850064,\n",
       " 0.003830640618310462]"
      ]
     },
     "execution_count": 23,
     "metadata": {},
     "output_type": "execute_result"
    }
   ],
   "source": [
    "#Em termos %% por posicao no DOM\n",
    "coluna_posicaodom = dfpnadc['Condicaonodomicilio']\n",
    "dist_dom = coluna_posicaodom.value_counts()\n",
    "percentualdom = [100*x/dist_dom.sum() for x in dist_dom]\n",
    "percentualdom"
   ]
  },
  {
   "cell_type": "code",
   "execution_count": 24,
   "metadata": {},
   "outputs": [],
   "source": [
    "# dummies para chefe, conjuge, filhos do chefe e outros parentes\n",
    "# primeiro para chefe \n",
    "dfpnadc['ChefedoDom'] =dfpnadc['Condicaonodomicilio']==1\n",
    "dfpnadc['ChefedoDom']= dfpnadc['ChefedoDom'].replace(True,1)\n",
    "dfpnadc['ChefedoDom']= dfpnadc['ChefedoDom'].replace(False,0)\n"
   ]
  },
  {
   "cell_type": "code",
   "execution_count": 25,
   "metadata": {},
   "outputs": [
    {
     "data": {
      "text/plain": [
       "count    443790.000000\n",
       "mean          0.339501\n",
       "std           0.473540\n",
       "min           0.000000\n",
       "25%           0.000000\n",
       "50%           0.000000\n",
       "75%           1.000000\n",
       "max           1.000000\n",
       "Name: ChefedoDom, dtype: float64"
      ]
     },
     "execution_count": 25,
     "metadata": {},
     "output_type": "execute_result"
    }
   ],
   "source": [
    "dfpnadc['ChefedoDom'].describe()"
   ]
  },
  {
   "cell_type": "code",
   "execution_count": 26,
   "metadata": {},
   "outputs": [
    {
     "data": {
      "text/html": [
       "<div>\n",
       "<style scoped>\n",
       "    .dataframe tbody tr th:only-of-type {\n",
       "        vertical-align: middle;\n",
       "    }\n",
       "\n",
       "    .dataframe tbody tr th {\n",
       "        vertical-align: top;\n",
       "    }\n",
       "\n",
       "    .dataframe thead th {\n",
       "        text-align: right;\n",
       "    }\n",
       "</style>\n",
       "<table border=\"1\" class=\"dataframe\">\n",
       "  <thead>\n",
       "    <tr style=\"text-align: right;\">\n",
       "      <th></th>\n",
       "      <th>Condicaonodomicilio</th>\n",
       "    </tr>\n",
       "    <tr>\n",
       "      <th>ChefedoDom</th>\n",
       "      <th></th>\n",
       "    </tr>\n",
       "  </thead>\n",
       "  <tbody>\n",
       "    <tr>\n",
       "      <td>0.0</td>\n",
       "      <td>293123</td>\n",
       "    </tr>\n",
       "    <tr>\n",
       "      <td>1.0</td>\n",
       "      <td>150667</td>\n",
       "    </tr>\n",
       "  </tbody>\n",
       "</table>\n",
       "</div>"
      ],
      "text/plain": [
       "            Condicaonodomicilio\n",
       "ChefedoDom                     \n",
       "0.0                      293123\n",
       "1.0                      150667"
      ]
     },
     "execution_count": 26,
     "metadata": {},
     "output_type": "execute_result"
    }
   ],
   "source": [
    "#Conferindo se o valor bate com o que deveria ser (150667)\n",
    "dfpnadc.filter(items= ['ChefedoDom','Condicaonodomicilio']).groupby('ChefedoDom').count().sort_values(by='Condicaonodomicilio', ascending = False)"
   ]
  },
  {
   "cell_type": "code",
   "execution_count": 27,
   "metadata": {},
   "outputs": [
    {
     "data": {
      "text/plain": [
       "0         0.0\n",
       "1         1.0\n",
       "2         0.0\n",
       "3         0.0\n",
       "4         0.0\n",
       "         ... \n",
       "443785    0.0\n",
       "443786    0.0\n",
       "443787    0.0\n",
       "443788    0.0\n",
       "443789    0.0\n",
       "Name: Conjuge, Length: 443790, dtype: float64"
      ]
     },
     "execution_count": 27,
     "metadata": {},
     "output_type": "execute_result"
    }
   ],
   "source": [
    "# conjuge do mesmo sexo ou de sexo diferente\n",
    "dfpnadc['Conjuge'] = ((dfpnadc.Condicaonodomicilio == 2) | (dfpnadc.Condicaonodomicilio == 3))\n",
    "dfpnadc['Conjuge']=dfpnadc['Conjuge'].replace(True,1)\n",
    "dfpnadc['Conjuge']=dfpnadc['Conjuge'].replace(False,0)\n",
    "dfpnadc['Conjuge']"
   ]
  },
  {
   "cell_type": "code",
   "execution_count": 28,
   "metadata": {},
   "outputs": [],
   "source": [
    " # dfpnadc['Conjuge'] =dfpnadc[(dfpnadc['Condicaonodomicilio']==2) or (dfpnadc['Condicaonodomicilio']==3)]"
   ]
  },
  {
   "cell_type": "code",
   "execution_count": 29,
   "metadata": {},
   "outputs": [
    {
     "data": {
      "text/html": [
       "<div>\n",
       "<style scoped>\n",
       "    .dataframe tbody tr th:only-of-type {\n",
       "        vertical-align: middle;\n",
       "    }\n",
       "\n",
       "    .dataframe tbody tr th {\n",
       "        vertical-align: top;\n",
       "    }\n",
       "\n",
       "    .dataframe thead th {\n",
       "        text-align: right;\n",
       "    }\n",
       "</style>\n",
       "<table border=\"1\" class=\"dataframe\">\n",
       "  <thead>\n",
       "    <tr style=\"text-align: right;\">\n",
       "      <th></th>\n",
       "      <th>Condicaonodomicilio</th>\n",
       "    </tr>\n",
       "    <tr>\n",
       "      <th>Conjuge</th>\n",
       "      <th></th>\n",
       "    </tr>\n",
       "  </thead>\n",
       "  <tbody>\n",
       "    <tr>\n",
       "      <td>0.0</td>\n",
       "      <td>349614</td>\n",
       "    </tr>\n",
       "    <tr>\n",
       "      <td>1.0</td>\n",
       "      <td>94176</td>\n",
       "    </tr>\n",
       "  </tbody>\n",
       "</table>\n",
       "</div>"
      ],
      "text/plain": [
       "         Condicaonodomicilio\n",
       "Conjuge                     \n",
       "0.0                   349614\n",
       "1.0                    94176"
      ]
     },
     "execution_count": 29,
     "metadata": {},
     "output_type": "execute_result"
    }
   ],
   "source": [
    "#Conferindo o valor que tem que ser (93818 + 358) = 94176\n",
    "dfpnadc.filter(items= ['Conjuge','Condicaonodomicilio']).groupby('Conjuge').count().sort_values(by='Condicaonodomicilio', ascending = False)"
   ]
  },
  {
   "cell_type": "code",
   "execution_count": 30,
   "metadata": {},
   "outputs": [
    {
     "data": {
      "text/plain": [
       "0         0.0\n",
       "1         0.0\n",
       "2         1.0\n",
       "3         1.0\n",
       "4         0.0\n",
       "         ... \n",
       "443785    1.0\n",
       "443786    0.0\n",
       "443787    0.0\n",
       "443788    0.0\n",
       "443789    1.0\n",
       "Name: Filho_dochefe_oudocasal, Length: 443790, dtype: float64"
      ]
     },
     "execution_count": 30,
     "metadata": {},
     "output_type": "execute_result"
    }
   ],
   "source": [
    "dfpnadc['Filho_dochefe_oudocasal'] = ((dfpnadc.Condicaonodomicilio == 4) | (dfpnadc.Condicaonodomicilio == 5))\n",
    "dfpnadc['Filho_dochefe_oudocasal']=dfpnadc['Filho_dochefe_oudocasal'].replace(True,1)\n",
    "dfpnadc['Filho_dochefe_oudocasal']=dfpnadc['Filho_dochefe_oudocasal'].replace(False,0)\n",
    "dfpnadc['Filho_dochefe_oudocasal']"
   ]
  },
  {
   "cell_type": "code",
   "execution_count": 31,
   "metadata": {},
   "outputs": [
    {
     "data": {
      "text/html": [
       "<div>\n",
       "<style scoped>\n",
       "    .dataframe tbody tr th:only-of-type {\n",
       "        vertical-align: middle;\n",
       "    }\n",
       "\n",
       "    .dataframe tbody tr th {\n",
       "        vertical-align: top;\n",
       "    }\n",
       "\n",
       "    .dataframe thead th {\n",
       "        text-align: right;\n",
       "    }\n",
       "</style>\n",
       "<table border=\"1\" class=\"dataframe\">\n",
       "  <thead>\n",
       "    <tr style=\"text-align: right;\">\n",
       "      <th></th>\n",
       "      <th>Condicaonodomicilio</th>\n",
       "    </tr>\n",
       "    <tr>\n",
       "      <th>Filho_dochefe_oudocasal</th>\n",
       "      <th></th>\n",
       "    </tr>\n",
       "  </thead>\n",
       "  <tbody>\n",
       "    <tr>\n",
       "      <td>0.0</td>\n",
       "      <td>299980</td>\n",
       "    </tr>\n",
       "    <tr>\n",
       "      <td>1.0</td>\n",
       "      <td>143810</td>\n",
       "    </tr>\n",
       "  </tbody>\n",
       "</table>\n",
       "</div>"
      ],
      "text/plain": [
       "                         Condicaonodomicilio\n",
       "Filho_dochefe_oudocasal                     \n",
       "0.0                                   299980\n",
       "1.0                                   143810"
      ]
     },
     "execution_count": 31,
     "metadata": {},
     "output_type": "execute_result"
    }
   ],
   "source": [
    "#Conferindo o valor que tem que ser (96021 + 47789) = 143810\n",
    "dfpnadc.filter(items= ['Filho_dochefe_oudocasal','Condicaonodomicilio']).groupby('Filho_dochefe_oudocasal').count().sort_values(by='Condicaonodomicilio', ascending = False)"
   ]
  },
  {
   "cell_type": "code",
   "execution_count": 32,
   "metadata": {},
   "outputs": [
    {
     "data": {
      "text/plain": [
       "0         0.0\n",
       "1         0.0\n",
       "2         0.0\n",
       "3         0.0\n",
       "4         1.0\n",
       "         ... \n",
       "443785    0.0\n",
       "443786    0.0\n",
       "443787    1.0\n",
       "443788    0.0\n",
       "443789    0.0\n",
       "Name: outrosparentes, Length: 443790, dtype: float64"
      ]
     },
     "execution_count": 32,
     "metadata": {},
     "output_type": "execute_result"
    }
   ],
   "source": [
    "dfpnadc['outrosparentes']= dfpnadc['Condicaonodomicilio']>5\n",
    "dfpnadc['outrosparentes'] = dfpnadc['outrosparentes'].replace(False,0)\n",
    "dfpnadc['outrosparentes'] = dfpnadc['outrosparentes'].replace(True,1)\n",
    "dfpnadc['outrosparentes']"
   ]
  },
  {
   "cell_type": "code",
   "execution_count": 33,
   "metadata": {},
   "outputs": [
    {
     "data": {
      "text/html": [
       "<div>\n",
       "<style scoped>\n",
       "    .dataframe tbody tr th:only-of-type {\n",
       "        vertical-align: middle;\n",
       "    }\n",
       "\n",
       "    .dataframe tbody tr th {\n",
       "        vertical-align: top;\n",
       "    }\n",
       "\n",
       "    .dataframe thead th {\n",
       "        text-align: right;\n",
       "    }\n",
       "</style>\n",
       "<table border=\"1\" class=\"dataframe\">\n",
       "  <thead>\n",
       "    <tr style=\"text-align: right;\">\n",
       "      <th></th>\n",
       "      <th>Condicaonodomicilio</th>\n",
       "    </tr>\n",
       "    <tr>\n",
       "      <th>outrosparentes</th>\n",
       "      <th></th>\n",
       "    </tr>\n",
       "  </thead>\n",
       "  <tbody>\n",
       "    <tr>\n",
       "      <td>0.0</td>\n",
       "      <td>388653</td>\n",
       "    </tr>\n",
       "    <tr>\n",
       "      <td>1.0</td>\n",
       "      <td>55137</td>\n",
       "    </tr>\n",
       "  </tbody>\n",
       "</table>\n",
       "</div>"
      ],
      "text/plain": [
       "                Condicaonodomicilio\n",
       "outrosparentes                     \n",
       "0.0                          388653\n",
       "1.0                           55137"
      ]
     },
     "execution_count": 33,
     "metadata": {},
     "output_type": "execute_result"
    }
   ],
   "source": [
    "#Conferindo o valor que tem que ser , 0 tem que ser (143810+94176+150667)=388653\n",
    "dfpnadc.filter(items= ['outrosparentes','Condicaonodomicilio']).groupby('outrosparentes').count().sort_values(by='Condicaonodomicilio', ascending = False)"
   ]
  },
  {
   "cell_type": "markdown",
   "metadata": {},
   "source": [
    "### dummies para idade e escolaridade"
   ]
  },
  {
   "cell_type": "code",
   "execution_count": 34,
   "metadata": {},
   "outputs": [
    {
     "data": {
      "text/plain": [
       "0         0.0\n",
       "1         0.0\n",
       "2         0.0\n",
       "3         0.0\n",
       "4         0.0\n",
       "         ... \n",
       "443785    0.0\n",
       "443786    0.0\n",
       "443787    0.0\n",
       "443788    0.0\n",
       "443789    0.0\n",
       "Name: idadede10a14, Length: 443790, dtype: float64"
      ]
     },
     "execution_count": 34,
     "metadata": {},
     "output_type": "execute_result"
    }
   ],
   "source": [
    "dfpnadc['idadede10a14']= ((dfpnadc.Idade >=10) & (dfpnadc.Idade <=14))\n",
    "dfpnadc['idadede10a14'] = dfpnadc['idadede10a14'].replace(True,1)\n",
    "dfpnadc['idadede10a14'] = dfpnadc['idadede10a14'].replace(False,0)\n",
    "dfpnadc['idadede10a14']"
   ]
  },
  {
   "cell_type": "code",
   "execution_count": 35,
   "metadata": {},
   "outputs": [
    {
     "data": {
      "text/html": [
       "<div>\n",
       "<style scoped>\n",
       "    .dataframe tbody tr th:only-of-type {\n",
       "        vertical-align: middle;\n",
       "    }\n",
       "\n",
       "    .dataframe tbody tr th {\n",
       "        vertical-align: top;\n",
       "    }\n",
       "\n",
       "    .dataframe thead th {\n",
       "        text-align: right;\n",
       "    }\n",
       "</style>\n",
       "<table border=\"1\" class=\"dataframe\">\n",
       "  <thead>\n",
       "    <tr style=\"text-align: right;\">\n",
       "      <th></th>\n",
       "      <th>Idade</th>\n",
       "    </tr>\n",
       "    <tr>\n",
       "      <th>idadede10a14</th>\n",
       "      <th></th>\n",
       "    </tr>\n",
       "  </thead>\n",
       "  <tbody>\n",
       "    <tr>\n",
       "      <td>0.0</td>\n",
       "      <td>410691</td>\n",
       "    </tr>\n",
       "    <tr>\n",
       "      <td>1.0</td>\n",
       "      <td>33099</td>\n",
       "    </tr>\n",
       "  </tbody>\n",
       "</table>\n",
       "</div>"
      ],
      "text/plain": [
       "               Idade\n",
       "idadede10a14        \n",
       "0.0           410691\n",
       "1.0            33099"
      ]
     },
     "execution_count": 35,
     "metadata": {},
     "output_type": "execute_result"
    }
   ],
   "source": [
    "dfpnadc.filter(items= ['idadede10a14','Idade']).groupby('idadede10a14').count().sort_values(by='Idade', ascending = False)"
   ]
  },
  {
   "cell_type": "code",
   "execution_count": 36,
   "metadata": {},
   "outputs": [
    {
     "data": {
      "text/plain": [
       "0         0.0\n",
       "1         0.0\n",
       "2         0.0\n",
       "3         1.0\n",
       "4         0.0\n",
       "         ... \n",
       "443785    0.0\n",
       "443786    0.0\n",
       "443787    0.0\n",
       "443788    0.0\n",
       "443789    0.0\n",
       "Name: idade_15a17, Length: 443790, dtype: float64"
      ]
     },
     "execution_count": 36,
     "metadata": {},
     "output_type": "execute_result"
    }
   ],
   "source": [
    "dfpnadc['idade_15a17']= ((dfpnadc.Idade >=15) & (dfpnadc.Idade <=17))\n",
    "dfpnadc['idade_15a17']=dfpnadc['idade_15a17'].replace(True,1)\n",
    "dfpnadc['idade_15a17']= dfpnadc['idade_15a17'].replace(False,0)\n",
    "dfpnadc['idade_15a17']"
   ]
  },
  {
   "cell_type": "code",
   "execution_count": 37,
   "metadata": {},
   "outputs": [
    {
     "data": {
      "text/html": [
       "<div>\n",
       "<style scoped>\n",
       "    .dataframe tbody tr th:only-of-type {\n",
       "        vertical-align: middle;\n",
       "    }\n",
       "\n",
       "    .dataframe tbody tr th {\n",
       "        vertical-align: top;\n",
       "    }\n",
       "\n",
       "    .dataframe thead th {\n",
       "        text-align: right;\n",
       "    }\n",
       "</style>\n",
       "<table border=\"1\" class=\"dataframe\">\n",
       "  <thead>\n",
       "    <tr style=\"text-align: right;\">\n",
       "      <th></th>\n",
       "      <th>Idade</th>\n",
       "    </tr>\n",
       "    <tr>\n",
       "      <th>idade_15a17</th>\n",
       "      <th></th>\n",
       "    </tr>\n",
       "  </thead>\n",
       "  <tbody>\n",
       "    <tr>\n",
       "      <td>0.0</td>\n",
       "      <td>422928</td>\n",
       "    </tr>\n",
       "    <tr>\n",
       "      <td>1.0</td>\n",
       "      <td>20862</td>\n",
       "    </tr>\n",
       "  </tbody>\n",
       "</table>\n",
       "</div>"
      ],
      "text/plain": [
       "              Idade\n",
       "idade_15a17        \n",
       "0.0          422928\n",
       "1.0           20862"
      ]
     },
     "execution_count": 37,
     "metadata": {},
     "output_type": "execute_result"
    }
   ],
   "source": [
    "dfpnadc.filter(items= ['idade_15a17','Idade']).groupby('idade_15a17').count().sort_values(by='Idade', ascending = False)"
   ]
  },
  {
   "cell_type": "code",
   "execution_count": 38,
   "metadata": {},
   "outputs": [
    {
     "data": {
      "text/plain": [
       "count    415474.000000\n",
       "mean          0.261066\n",
       "std           0.439216\n",
       "min           0.000000\n",
       "25%           0.000000\n",
       "50%           0.000000\n",
       "75%           1.000000\n",
       "max           1.000000\n",
       "Name: frequenta_escola, dtype: float64"
      ]
     },
     "execution_count": 38,
     "metadata": {},
     "output_type": "execute_result"
    }
   ],
   "source": [
    "dfpnadc['frequenta_escola']= dfpnadc['frequenta_escola'].replace(2,0)\n",
    "dfpnadc['frequenta_escola'].describe()"
   ]
  },
  {
   "cell_type": "markdown",
   "metadata": {},
   "source": [
    "# Dummies para faixas de rendimento"
   ]
  },
  {
   "cell_type": "code",
   "execution_count": 39,
   "metadata": {},
   "outputs": [
    {
     "data": {
      "text/plain": [
       "Index(['UF', 'Capital', 'Trabalhou_nasemana_deref',\n",
       "       'trabalhaca_com_carteira_assinada', 'Contribuia_com_previdencia',\n",
       "       'neste_trabalho_era', 'tem_CNPJ', 'quantos_empregostinha', 'V1022',\n",
       "       'V2001', 'frequenta_escola', 'Condicaonodomicilio', 'Sexo', 'Idade',\n",
       "       'V2010', 'Horas_trabalhadas_semanaREF', 'RendaBruta', 'V4002', 'V4003',\n",
       "       'V4004', 'Numerodafaixadorendimento', 'V4071', 'V4074A', 'BPC',\n",
       "       'Valor_do_BPC', 'VD2002', 'PBF', 'Valor_do_PBF', 'VD3004', 'VD3005',\n",
       "       'Rendimento_efetivo_domiciliar_per_capita',\n",
       "       'Faixa_de_rendimento_efetivo_domiciliar_per_capita', 'VD4046', 'VD4047',\n",
       "       'IDpes', 'IDdom', 'ChefedoDom', 'Conjuge', 'Filho_dochefe_oudocasal',\n",
       "       'outrosparentes', 'idadede10a14', 'idade_15a17'],\n",
       "      dtype='object')"
      ]
     },
     "execution_count": 39,
     "metadata": {},
     "output_type": "execute_result"
    }
   ],
   "source": [
    "dfpnadc.columns"
   ]
  },
  {
   "cell_type": "code",
   "execution_count": 40,
   "metadata": {},
   "outputs": [
    {
     "data": {
      "text/plain": [
       "0          921.0\n",
       "1          921.0\n",
       "2          921.0\n",
       "3          921.0\n",
       "4          921.0\n",
       "           ...  \n",
       "443785    6833.0\n",
       "443786    1000.0\n",
       "443787    1000.0\n",
       "443788     750.0\n",
       "443789     333.0\n",
       "Name: Rendimento_efetivo_domiciliar_per_capita, Length: 443790, dtype: float64"
      ]
     },
     "execution_count": 40,
     "metadata": {},
     "output_type": "execute_result"
    }
   ],
   "source": [
    "dfpnadc['Rendimento_efetivo_domiciliar_per_capita']"
   ]
  },
  {
   "cell_type": "code",
   "execution_count": 41,
   "metadata": {},
   "outputs": [
    {
     "data": {
      "text/plain": [
       "count    443790.000000\n",
       "mean          0.196530\n",
       "std           0.397374\n",
       "min           0.000000\n",
       "25%           0.000000\n",
       "50%           0.000000\n",
       "75%           0.000000\n",
       "max           1.000000\n",
       "Name: ate1_2salariomin, dtype: float64"
      ]
     },
     "execution_count": 41,
     "metadata": {},
     "output_type": "execute_result"
    }
   ],
   "source": [
    "# de 1/4 até 2/4 salário mínimo\n",
    "dfpnadc['ate1_2salariomin'] = ((dfpnadc.Rendimento_efetivo_domiciliar_per_capita > 249.50) & (dfpnadc.Rendimento_efetivo_domiciliar_per_capita <=499))\n",
    "dfpnadc['ate1_2salariomin'] = dfpnadc['ate1_2salariomin'].replace(True,1)\n",
    "dfpnadc['ate1_2salariomin']  = dfpnadc['ate1_2salariomin'].replace(False,0)\n",
    "dfpnadc['ate1_2salariomin'] \n",
    "dfpnadc['ate1_2salariomin'].describe()"
   ]
  },
  {
   "cell_type": "code",
   "execution_count": 42,
   "metadata": {},
   "outputs": [
    {
     "data": {
      "text/plain": [
       "count    443790.000000\n",
       "mean          0.145686\n",
       "std           0.352792\n",
       "min           0.000000\n",
       "25%           0.000000\n",
       "50%           0.000000\n",
       "75%           0.000000\n",
       "max           1.000000\n",
       "Name: ate3_4salariomin, dtype: float64"
      ]
     },
     "execution_count": 42,
     "metadata": {},
     "output_type": "execute_result"
    }
   ],
   "source": [
    "# de 2/4 até 3/4 salário mínimo\n",
    "dfpnadc['ate3_4salariomin'] = ((dfpnadc.Rendimento_efetivo_domiciliar_per_capita > 499) & (dfpnadc.Rendimento_efetivo_domiciliar_per_capita <=748.50))\n",
    "dfpnadc['ate3_4salariomin'] = dfpnadc['ate3_4salariomin'].replace(True,1)\n",
    "dfpnadc['ate3_4salariomin']  = dfpnadc['ate3_4salariomin'].replace(False,0)\n",
    "dfpnadc['ate3_4salariomin'] \n",
    "dfpnadc['ate3_4salariomin'].describe()"
   ]
  },
  {
   "cell_type": "code",
   "execution_count": 43,
   "metadata": {},
   "outputs": [
    {
     "data": {
      "text/plain": [
       "count    443790.000000\n",
       "mean          0.129647\n",
       "std           0.335915\n",
       "min           0.000000\n",
       "25%           0.000000\n",
       "50%           0.000000\n",
       "75%           0.000000\n",
       "max           1.000000\n",
       "Name: ate1salariomin, dtype: float64"
      ]
     },
     "execution_count": 43,
     "metadata": {},
     "output_type": "execute_result"
    }
   ],
   "source": [
    "# de3/4 até 1 salário mínimo \n",
    "dfpnadc['ate1salariomin'] = ((dfpnadc.Rendimento_efetivo_domiciliar_per_capita > 748.50) & (dfpnadc.Rendimento_efetivo_domiciliar_per_capita <=998))\n",
    "dfpnadc['ate1salariomin'] = dfpnadc['ate1salariomin'].replace(True,1)\n",
    "dfpnadc['ate1salariomin']  = dfpnadc['ate1salariomin'].replace(False,0)\n",
    "dfpnadc['ate1salariomin'] \n",
    "dfpnadc['ate1salariomin'].describe()"
   ]
  },
  {
   "cell_type": "code",
   "execution_count": 45,
   "metadata": {},
   "outputs": [
    {
     "data": {
      "text/plain": [
       "count    443790.000000\n",
       "mean          0.107837\n",
       "std           0.310175\n",
       "min           0.000000\n",
       "25%           0.000000\n",
       "50%           0.000000\n",
       "75%           0.000000\n",
       "max           1.000000\n",
       "Name: Idade65, dtype: float64"
      ]
     },
     "execution_count": 45,
     "metadata": {},
     "output_type": "execute_result"
    }
   ],
   "source": [
    "#Se tem alguem com 65 ou mais\n",
    "dfpnadc['Idade65'] = dfpnadc['Idade']>=65\n",
    "dfpnadc['Idade65'] = dfpnadc['Idade65'].replace(True,1)\n",
    "dfpnadc['Idade65'] = dfpnadc['Idade65'].replace(False,0)\n",
    "dfpnadc['Idade65'].describe()"
   ]
  },
  {
   "cell_type": "code",
   "execution_count": null,
   "metadata": {},
   "outputs": [],
   "source": []
  },
  {
   "cell_type": "code",
   "execution_count": null,
   "metadata": {},
   "outputs": [],
   "source": []
  },
  {
   "cell_type": "code",
   "execution_count": null,
   "metadata": {},
   "outputs": [],
   "source": []
  },
  {
   "cell_type": "code",
   "execution_count": null,
   "metadata": {},
   "outputs": [],
   "source": []
  },
  {
   "cell_type": "code",
   "execution_count": null,
   "metadata": {},
   "outputs": [],
   "source": []
  },
  {
   "cell_type": "code",
   "execution_count": null,
   "metadata": {},
   "outputs": [],
   "source": []
  },
  {
   "cell_type": "code",
   "execution_count": null,
   "metadata": {},
   "outputs": [],
   "source": []
  },
  {
   "cell_type": "code",
   "execution_count": null,
   "metadata": {},
   "outputs": [],
   "source": []
  },
  {
   "cell_type": "code",
   "execution_count": null,
   "metadata": {},
   "outputs": [],
   "source": []
  },
  {
   "cell_type": "code",
   "execution_count": null,
   "metadata": {},
   "outputs": [],
   "source": []
  },
  {
   "cell_type": "code",
   "execution_count": null,
   "metadata": {},
   "outputs": [],
   "source": []
  },
  {
   "cell_type": "code",
   "execution_count": null,
   "metadata": {},
   "outputs": [],
   "source": []
  },
  {
   "cell_type": "code",
   "execution_count": null,
   "metadata": {},
   "outputs": [],
   "source": []
  },
  {
   "cell_type": "code",
   "execution_count": null,
   "metadata": {},
   "outputs": [],
   "source": []
  },
  {
   "cell_type": "code",
   "execution_count": null,
   "metadata": {},
   "outputs": [],
   "source": []
  },
  {
   "cell_type": "code",
   "execution_count": null,
   "metadata": {},
   "outputs": [],
   "source": []
  },
  {
   "cell_type": "code",
   "execution_count": null,
   "metadata": {},
   "outputs": [],
   "source": []
  },
  {
   "cell_type": "code",
   "execution_count": null,
   "metadata": {},
   "outputs": [],
   "source": []
  },
  {
   "cell_type": "code",
   "execution_count": null,
   "metadata": {},
   "outputs": [],
   "source": []
  },
  {
   "cell_type": "code",
   "execution_count": null,
   "metadata": {},
   "outputs": [],
   "source": []
  },
  {
   "cell_type": "code",
   "execution_count": null,
   "metadata": {},
   "outputs": [],
   "source": []
  },
  {
   "cell_type": "code",
   "execution_count": null,
   "metadata": {},
   "outputs": [],
   "source": []
  },
  {
   "cell_type": "code",
   "execution_count": null,
   "metadata": {},
   "outputs": [],
   "source": []
  }
 ],
 "metadata": {
  "kernelspec": {
   "display_name": "Python 3",
   "language": "python",
   "name": "python3"
  },
  "language_info": {
   "codemirror_mode": {
    "name": "ipython",
    "version": 3
   },
   "file_extension": ".py",
   "mimetype": "text/x-python",
   "name": "python",
   "nbconvert_exporter": "python",
   "pygments_lexer": "ipython3",
   "version": "3.7.4"
  }
 },
 "nbformat": 4,
 "nbformat_minor": 4
}
